{
 "cells": [
  {
   "cell_type": "code",
   "execution_count": 72,
   "metadata": {},
   "outputs": [],
   "source": [
    "import sqlite3 as LDBI\n",
    "import pandas as pd\n",
    "import matplotlib.pyplot as plt\n",
    "\n",
    "db1 = LDBI.connect('Map.db')"
   ]
  },
  {
   "cell_type": "code",
   "execution_count": null,
   "metadata": {},
   "outputs": [],
   "source": [
    "# import os\n",
    "# os.environ[\"PROJ_LIB\"] = \"C:\\\\Users\\\\Borna\\\\Anaconda\\\\Library\\\\share\"  # in order to properly import mpl_toolkits basemap\n",
    "\n",
    "# from mpl_toolkits.basemap import Basemap    # use 'conda install basemap'\n",
    "# import matplotlib.pyplot as plt\n",
    "# import numpy as np"
   ]
  },
  {
   "cell_type": "code",
   "execution_count": null,
   "metadata": {},
   "outputs": [],
   "source": [
    "# map = Basemap(projection='merc', lat_0 = 57, lon_0 = -135,\n",
    "#     resolution = 'i', area_thresh = 0.1,\n",
    "#     llcrnrlon=-136.25, llcrnrlat=56.0,\n",
    "#     urcrnrlon=-134.25, urcrnrlat=57.75)   # resolution can be:  \n",
    "#                                           # c (crude), l (low), i (intermediate), h (high), f (full) or None\n",
    "\n",
    "# map.drawcoastlines()\n",
    "# map.drawcountries()\n",
    "# map.fillcontinents(color = 'coral')\n",
    "# map.drawmapboundary()\n",
    "\n",
    "# lons = [-135.3318, -134.8331, -134.6572]\n",
    "# lats = [57.0799, 57.0894, 56.2399]\n",
    "# x,y = map(lons, lats)\n",
    "# map.plot(x, y, 'bo', markersize=9)\n",
    "\n",
    "# labels = ['Sitka', 'Baranof\\n  Warm Springs', 'Port Alexander']\n",
    "# x_offsets = [10000, -30000, -25000]\n",
    "# y_offsets = [5000, -25000, -25000]\n",
    " \n",
    "# for label, xpt, ypt, x_offset, y_offset in zip(labels, x, y, x_offsets, y_offsets):\n",
    "#     plt.text(xpt+x_offset, ypt+y_offset, label)\n",
    "    \n",
    "# plt.show()\n",
    "\n",
    "# plt.savefig('out.jpg', dpi = 1000)"
   ]
  },
  {
   "cell_type": "code",
   "execution_count": 73,
   "metadata": {},
   "outputs": [
    {
     "name": "stdout",
     "output_type": "stream",
     "text": [
      "558\n"
     ]
    }
   ],
   "source": [
    "list_assignments = \"\"\"\n",
    "    SELECT * FROM Roads\n",
    "    \"\"\"\n",
    "\n",
    "# get a cursor for database #1\n",
    "cu = db1.cursor()\n",
    "\n",
    "# execute a QUERY\n",
    "cu.execute(list_assignments)\n",
    "\n",
    "i=0\n",
    "# now show the result\n",
    "for entry in cu:\n",
    "#     print(entry)\n",
    "    i+=1\n",
    "    \n",
    "print(i)"
   ]
  },
  {
   "cell_type": "code",
   "execution_count": 74,
   "metadata": {},
   "outputs": [
    {
     "name": "stdout",
     "output_type": "stream",
     "text": [
      "3\n"
     ]
    }
   ],
   "source": [
    "list_assignments = \"\"\"\n",
    "    SELECT * FROM sqlite_sequence\n",
    "    \"\"\"\n",
    "\n",
    "cu = db1.cursor()\n",
    "cu.execute(list_assignments)\n",
    "i=0\n",
    "\n",
    "for entry in cu:\n",
    "#     print(entry)\n",
    "    i+=1\n",
    "    \n",
    "print(i)\n",
    "\n",
    "\n",
    "Roads = pd.read_sql_query(\"SELECT * from Roads\", db1)\n",
    "Features = pd.read_sql_query(\"SELECT * from Features\", db1)\n",
    "InstalledFeatures = pd.read_sql_query(\"SELECT * from InstalledFeatures\", db1)\n",
    "Intersections = pd.read_sql_query(\"SELECT * from Intersections\", db1)\n",
    "sqlite_sequence = pd.read_sql_query(\"SELECT * from sqlite_sequence\", db1)\n",
    "\n",
    "# cu.close()"
   ]
  },
  {
   "cell_type": "code",
   "execution_count": 178,
   "metadata": {},
   "outputs": [
    {
     "ename": "SyntaxError",
     "evalue": "Missing parentheses in call to 'print'. Did you mean print(name[0])? (<ipython-input-178-011647120d13>, line 3)",
     "output_type": "error",
     "traceback": [
      "\u001b[1;36m  File \u001b[1;32m\"<ipython-input-178-011647120d13>\"\u001b[1;36m, line \u001b[1;32m3\u001b[0m\n\u001b[1;33m    print name[0]\u001b[0m\n\u001b[1;37m          ^\u001b[0m\n\u001b[1;31mSyntaxError\u001b[0m\u001b[1;31m:\u001b[0m Missing parentheses in call to 'print'. Did you mean print(name[0])?\n"
     ]
    }
   ],
   "source": [
    "res = db1.execute(\"SELECT name FROM sqlite_master WHERE type='table';\")\n",
    "for name in res:\n",
    "    print name[0]"
   ]
  },
  {
   "cell_type": "code",
   "execution_count": null,
   "metadata": {},
   "outputs": [],
   "source": [
    "Roads"
   ]
  },
  {
   "cell_type": "code",
   "execution_count": null,
   "metadata": {},
   "outputs": [],
   "source": [
    "Features"
   ]
  },
  {
   "cell_type": "code",
   "execution_count": null,
   "metadata": {},
   "outputs": [],
   "source": [
    "InstalledFeatures"
   ]
  },
  {
   "cell_type": "code",
   "execution_count": null,
   "metadata": {},
   "outputs": [],
   "source": [
    "Intersections"
   ]
  },
  {
   "cell_type": "code",
   "execution_count": null,
   "metadata": {},
   "outputs": [],
   "source": [
    "sqlite_sequence"
   ]
  },
  {
   "cell_type": "code",
   "execution_count": null,
   "metadata": {},
   "outputs": [],
   "source": [
    "pd.merge(Intersections, InstalledFeatures, left_on='ID', right_on='intersectionID')"
   ]
  },
  {
   "cell_type": "code",
   "execution_count": null,
   "metadata": {},
   "outputs": [],
   "source": [
    "x = Intersections.X.tolist()\n",
    "y = Intersections.Y.tolist()\n",
    "\n",
    "# plt.xlabel('X')\n",
    "# plt.ylabel('Y')\n",
    "# plt.title('Intersection Map')\n",
    "\n",
    "plt.xticks([])\n",
    "plt.yticks([])\n",
    "\n",
    "plt.scatter(x, y, color='black', s=1.5)\n",
    "plt.plot(x, y, 'o', color='black', markersize=1.5)\n",
    "\n",
    "\n",
    "point1 = [Intersections.X.tolist()[0], Intersections.Y.tolist()[0]]\n",
    "point2 = [Intersections.X.tolist()[1], Intersections.Y.tolist()[1]]\n",
    "\n",
    "x_values = [point1[0], point2[0]]\n",
    "\n",
    "y_values = [point1[1], point2[1]]\n",
    "\n",
    "\n",
    "plt.plot(x_values, y_values, linewidth=.5)\n",
    "\n",
    "plt.savefig('image.png', dpi=500)\n",
    "\n",
    "plt.close()"
   ]
  },
  {
   "cell_type": "code",
   "execution_count": null,
   "metadata": {},
   "outputs": [],
   "source": [
    "plt.savefig('image.png', dpi=500)"
   ]
  },
  {
   "cell_type": "code",
   "execution_count": 175,
   "metadata": {},
   "outputs": [
    {
     "data": {
      "image/png": "[encoded data removed]",
      "text/plain": [
       "<Figure size 432x288 with 1 Axes>"
      ]
     },
     "metadata": {
      "needs_background": "light"
     },
     "output_type": "display_data"
    }
   ],
   "source": [
    "import numpy as np\n",
    "import matplotlib.pyplot as plt\n",
    "\n",
    "x = np.arange(0,10,0.1)\n",
    "y1 = x\n",
    "y2 = np.sin(x)\n",
    "\n",
    "plt.plot(x, y1, linewidth=1, color = 'deepskyblue')\n",
    "fig1 = plt.gcf()\n",
    "\n",
    "plt.plot(x, y2, linewidth=1, color = 'red')\n",
    "fig2 = plt.gcf()"
   ]
  },
  {
   "cell_type": "code",
   "execution_count": 174,
   "metadata": {},
   "outputs": [
    {
     "data": {
      "text/plain": [
       "[<matplotlib.lines.Line2D at 0x2282d6ad700>]"
      ]
     },
     "execution_count": 174,
     "metadata": {},
     "output_type": "execute_result"
    },
    {
     "data": {
      "image/png": "[encoded data removed]",
      "text/plain": [
       "<Figure size 432x288 with 1 Axes>"
      ]
     },
     "metadata": {
      "needs_background": "light"
     },
     "output_type": "display_data"
    }
   ],
   "source": [
    "plt.plot(np.arange(0,10), np.arange(0,10), linewidth=1, color = 'deepskyblue')"
   ]
  },
  {
   "cell_type": "code",
   "execution_count": 181,
   "metadata": {},
   "outputs": [
    {
     "data": {
      "text/html": [
       "<div>\n",
       "<style scoped>\n",
       "    .dataframe tbody tr th:only-of-type {\n",
       "        vertical-align: middle;\n",
       "    }\n",
       "\n",
       "    .dataframe tbody tr th {\n",
       "        vertical-align: top;\n",
       "    }\n",
       "\n",
       "    .dataframe thead th {\n",
       "        text-align: right;\n",
       "    }\n",
       "</style>\n",
       "<table border=\"1\" class=\"dataframe\">\n",
       "  <thead>\n",
       "    <tr style=\"text-align: right;\">\n",
       "      <th></th>\n",
       "      <th>ID</th>\n",
       "      <th>intersectionID</th>\n",
       "      <th>FeatureID</th>\n",
       "    </tr>\n",
       "  </thead>\n",
       "  <tbody>\n",
       "    <tr>\n",
       "      <th>0</th>\n",
       "      <td>1557</td>\n",
       "      <td>4</td>\n",
       "      <td>2</td>\n",
       "    </tr>\n",
       "    <tr>\n",
       "      <th>1</th>\n",
       "      <td>1558</td>\n",
       "      <td>8</td>\n",
       "      <td>2</td>\n",
       "    </tr>\n",
       "    <tr>\n",
       "      <th>2</th>\n",
       "      <td>1559</td>\n",
       "      <td>9</td>\n",
       "      <td>1</td>\n",
       "    </tr>\n",
       "    <tr>\n",
       "      <th>3</th>\n",
       "      <td>1560</td>\n",
       "      <td>12</td>\n",
       "      <td>2</td>\n",
       "    </tr>\n",
       "    <tr>\n",
       "      <th>4</th>\n",
       "      <td>1561</td>\n",
       "      <td>16</td>\n",
       "      <td>2</td>\n",
       "    </tr>\n",
       "    <tr>\n",
       "      <th>...</th>\n",
       "      <td>...</td>\n",
       "      <td>...</td>\n",
       "      <td>...</td>\n",
       "    </tr>\n",
       "    <tr>\n",
       "      <th>103</th>\n",
       "      <td>1660</td>\n",
       "      <td>288</td>\n",
       "      <td>2</td>\n",
       "    </tr>\n",
       "    <tr>\n",
       "      <th>104</th>\n",
       "      <td>1661</td>\n",
       "      <td>292</td>\n",
       "      <td>2</td>\n",
       "    </tr>\n",
       "    <tr>\n",
       "      <th>105</th>\n",
       "      <td>1662</td>\n",
       "      <td>296</td>\n",
       "      <td>2</td>\n",
       "    </tr>\n",
       "    <tr>\n",
       "      <th>106</th>\n",
       "      <td>1663</td>\n",
       "      <td>297</td>\n",
       "      <td>1</td>\n",
       "    </tr>\n",
       "    <tr>\n",
       "      <th>107</th>\n",
       "      <td>1664</td>\n",
       "      <td>300</td>\n",
       "      <td>2</td>\n",
       "    </tr>\n",
       "  </tbody>\n",
       "</table>\n",
       "<p>108 rows × 3 columns</p>\n",
       "</div>"
      ],
      "text/plain": [
       "       ID  intersectionID  FeatureID\n",
       "0    1557               4          2\n",
       "1    1558               8          2\n",
       "2    1559               9          1\n",
       "3    1560              12          2\n",
       "4    1561              16          2\n",
       "..    ...             ...        ...\n",
       "103  1660             288          2\n",
       "104  1661             292          2\n",
       "105  1662             296          2\n",
       "106  1663             297          1\n",
       "107  1664             300          2\n",
       "\n",
       "[108 rows x 3 columns]"
      ]
     },
     "execution_count": 181,
     "metadata": {},
     "output_type": "execute_result"
    }
   ],
   "source": [
    "InstalledFeatures"
   ]
  },
  {
   "cell_type": "code",
   "execution_count": 182,
   "metadata": {},
   "outputs": [
    {
     "data": {
      "text/html": [
       "<div>\n",
       "<style scoped>\n",
       "    .dataframe tbody tr th:only-of-type {\n",
       "        vertical-align: middle;\n",
       "    }\n",
       "\n",
       "    .dataframe tbody tr th {\n",
       "        vertical-align: top;\n",
       "    }\n",
       "\n",
       "    .dataframe thead th {\n",
       "        text-align: right;\n",
       "    }\n",
       "</style>\n",
       "<table border=\"1\" class=\"dataframe\">\n",
       "  <thead>\n",
       "    <tr style=\"text-align: right;\">\n",
       "      <th></th>\n",
       "      <th>ID</th>\n",
       "      <th>name</th>\n",
       "    </tr>\n",
       "  </thead>\n",
       "  <tbody>\n",
       "    <tr>\n",
       "      <th>0</th>\n",
       "      <td>1</td>\n",
       "      <td>traffic light</td>\n",
       "    </tr>\n",
       "    <tr>\n",
       "      <th>1</th>\n",
       "      <td>2</td>\n",
       "      <td>crosswalks</td>\n",
       "    </tr>\n",
       "  </tbody>\n",
       "</table>\n",
       "</div>"
      ],
      "text/plain": [
       "   ID           name\n",
       "0   1  traffic light\n",
       "1   2     crosswalks"
      ]
     },
     "execution_count": 182,
     "metadata": {},
     "output_type": "execute_result"
    }
   ],
   "source": [
    "Features"
   ]
  },
  {
   "cell_type": "code",
   "execution_count": 157,
   "metadata": {},
   "outputs": [
    {
     "data": {
      "image/png": "[encoded data removed]",
      "text/plain": [
       "<Figure size 432x288 with 1 Axes>"
      ]
     },
     "metadata": {},
     "output_type": "display_data"
    }
   ],
   "source": [
    "\n",
    "sd = 3  # size of the dots\n",
    "sx = 3 # size of the crosses\n",
    "f = 1.5 # fontsize\n",
    "\n",
    "x = Intersections.X.tolist()\n",
    "y = Intersections.Y.tolist()\n",
    "\n",
    "plt.xticks([])\n",
    "plt.yticks([])\n",
    "\n",
    "# create a new slope function:  \n",
    "# https://stackoverflow.com/questions/41462419/python-slope-given-two-points-find-the-slope-answer-works-doesnt-work/41462583\n",
    "def slope(x1, y1, x2, y2):\n",
    "    m = (y2-y1)/(x2-x1)\n",
    "    return abs(m)\n",
    "\n",
    "# plot the roads\n",
    "for i in range(len(Roads)):\n",
    "    index_0 = Roads.iloc[i].startNodeID\n",
    "    index_1 = Roads.iloc[i].endNodeID\n",
    "\n",
    "    x_values = [Intersections.iloc[index_0-1].X, Intersections.iloc[index_1-1].X]\n",
    "    y_values = [Intersections.iloc[index_0-1].Y, Intersections.iloc[index_1-1].Y]\n",
    "    plt.plot(x_values, y_values, linewidth=.5, color = 'deepskyblue')\n",
    "    \n",
    "fig_s = plt.gcf()\n",
    "plt.savefig('image.png', dpi=500)\n",
    "    \n",
    "    \n",
    "# plot the labels\n",
    "for i in range(len(Roads)):\n",
    "    index_0 = Roads.iloc[i].startNodeID\n",
    "    index_1 = Roads.iloc[i].endNodeID\n",
    "\n",
    "    x_value = (Intersections.iloc[index_0-1].X + Intersections.iloc[index_1-1].X)/2\n",
    "    y_value = (Intersections.iloc[index_0-1].Y + Intersections.iloc[index_1-1].Y)/2\n",
    "\n",
    "    m = slope(Intersections.iloc[index_0-1].X, Intersections.iloc[index_0-1].Y, \n",
    "                Intersections.iloc[index_1-1].X, Intersections.iloc[index_1-1].Y)\n",
    "\n",
    "    if np.isclose(m, 0.3249197):\n",
    "        rot = -13\n",
    "        x_div = 8\n",
    "        y_div = 1.5\n",
    "    elif np.isclose(m, 3.0776835):\n",
    "        rot = 66\n",
    "        x_div = -4\n",
    "        y_div = 1.5\n",
    "\n",
    "    plt.text(x_value + 0.024/x_div, y_value + 0.008/y_div, Roads.iloc[i]['name'], fontsize=f, rotation=rot, \n",
    "             rotation_mode='anchor', ha = 'center', va = 'center')\n",
    "    \n",
    "fig_sn = plt.gcf()\n",
    "plt.savefig('image2.png', dpi=500)\n",
    "    \n",
    "# plot red and green intersections\n",
    "l = []\n",
    "for index, row in InstalledFeatures.iterrows():\n",
    "    if row.FeatureID == 1:\n",
    "        plt.plot(x[row.intersectionID-1], y[row.intersectionID-1], 'o', color='red', markersize=sd)\n",
    "        l.append(row.intersectionID)\n",
    "    elif row.FeatureID == 2:\n",
    "        plt.plot(x[row.intersectionID-1], y[row.intersectionID-1], 'x', color='green', markersize=sx)\n",
    "        l.append(row.intersectionID)\n",
    "\n",
    "# plot all other intersections\n",
    "not_ints = list(set(l))\n",
    "all_ints = Intersections.ID.tolist()\n",
    "ints = [x for x in all_ints if x not in not_ints]   # select the intersections thathave not been plotted yet\n",
    "for i in ints:\n",
    "    plt.plot(x[i-1], y[i-1], 'o', color='black', markersize=sd)\n",
    "    \n",
    "fig_sni = plt.gcf()\n",
    "plt.savefig('image3.png', dpi=500)"
   ]
  },
  {
   "cell_type": "code",
   "execution_count": 151,
   "metadata": {},
   "outputs": [],
   "source": [
    "from IPython.display import display"
   ]
  },
  {
   "cell_type": "code",
   "execution_count": 163,
   "metadata": {},
   "outputs": [
    {
     "data": {
      "text/plain": [
       "<Figure size 432x288 with 0 Axes>"
      ]
     },
     "execution_count": 163,
     "metadata": {},
     "output_type": "execute_result"
    },
    {
     "data": {
      "text/plain": [
       "<Figure size 432x288 with 0 Axes>"
      ]
     },
     "metadata": {},
     "output_type": "display_data"
    }
   ],
   "source": [
    "plt.figure(fig_s.number)"
   ]
  },
  {
   "cell_type": "code",
   "execution_count": 149,
   "metadata": {},
   "outputs": [
    {
     "data": {
      "image/png": "[encoded data removed]",
      "text/plain": [
       "<Figure size 432x288 with 1 Axes>"
      ]
     },
     "execution_count": 149,
     "metadata": {},
     "output_type": "execute_result"
    }
   ],
   "source": [
    "fig_s"
   ]
  },
  {
   "cell_type": "code",
   "execution_count": 91,
   "metadata": {},
   "outputs": [
    {
     "name": "stdout",
     "output_type": "stream",
     "text": [
      "A Street\n",
      "A Street\n",
      "A Street\n",
      "A Street\n",
      "A Street\n",
      "A Street\n",
      "A Street\n",
      "A Street\n",
      "A Street\n",
      "A Street\n",
      "A Street\n",
      "A Street\n",
      "A Street\n",
      "A Street\n",
      "A Street\n",
      "A Street\n",
      "A Street\n",
      "A Street\n",
      "A Street\n",
      "B Street\n",
      "B Street\n",
      "B Street\n",
      "B Street\n",
      "B Street\n",
      "B Street\n",
      "B Street\n",
      "B Street\n",
      "B Street\n",
      "B Street\n",
      "B Street\n",
      "B Street\n",
      "B Street\n",
      "B Street\n",
      "B Street\n",
      "B Street\n",
      "B Street\n",
      "B Street\n",
      "B Street\n",
      "C Street\n",
      "C Street\n",
      "C Street\n",
      "C Street\n",
      "C Street\n",
      "C Street\n",
      "C Street\n",
      "C Street\n",
      "C Street\n",
      "C Street\n",
      "C Street\n",
      "C Street\n",
      "C Street\n",
      "C Street\n",
      "C Street\n",
      "C Street\n",
      "C Street\n",
      "C Street\n",
      "C Street\n",
      "D Street\n",
      "D Street\n",
      "D Street\n",
      "D Street\n",
      "D Street\n",
      "D Street\n",
      "D Street\n",
      "D Street\n",
      "D Street\n",
      "D Street\n",
      "D Street\n",
      "D Street\n",
      "D Street\n",
      "D Street\n",
      "D Street\n",
      "D Street\n",
      "D Street\n",
      "D Street\n",
      "D Street\n",
      "E Street\n",
      "E Street\n",
      "E Street\n",
      "E Street\n",
      "E Street\n",
      "E Street\n",
      "E Street\n",
      "E Street\n",
      "E Street\n",
      "E Street\n",
      "E Street\n",
      "E Street\n",
      "E Street\n",
      "E Street\n",
      "E Street\n",
      "E Street\n",
      "E Street\n",
      "E Street\n",
      "F Street\n",
      "F Street\n",
      "F Street\n",
      "F Street\n",
      "F Street\n",
      "F Street\n",
      "F Street\n",
      "F Street\n",
      "F Street\n",
      "F Street\n",
      "F Street\n",
      "F Street\n",
      "F Street\n",
      "F Street\n",
      "F Street\n",
      "F Street\n",
      "F Street\n",
      "F Street\n",
      "F Street\n",
      "G Street\n",
      "G Street\n",
      "G Street\n",
      "G Street\n",
      "G Street\n",
      "G Street\n",
      "G Street\n",
      "G Street\n",
      "G Street\n",
      "G Street\n",
      "G Street\n",
      "G Street\n",
      "G Street\n",
      "G Street\n",
      "G Street\n",
      "G Street\n",
      "G Street\n",
      "G Street\n",
      "G Street\n",
      "H Street\n",
      "H Street\n",
      "H Street\n",
      "H Street\n",
      "H Street\n",
      "H Street\n",
      "H Street\n",
      "H Street\n",
      "H Street\n",
      "H Street\n",
      "H Street\n",
      "H Street\n",
      "H Street\n",
      "H Street\n",
      "H Street\n",
      "H Street\n",
      "H Street\n",
      "H Street\n",
      "H Street\n",
      "I Street\n",
      "I Street\n",
      "I Street\n",
      "I Street\n",
      "I Street\n",
      "I Street\n",
      "I Street\n",
      "I Street\n",
      "I Street\n",
      "I Street\n",
      "I Street\n",
      "I Street\n",
      "I Street\n",
      "I Street\n",
      "I Street\n",
      "I Street\n",
      "I Street\n",
      "I Street\n",
      "J Street\n",
      "J Street\n",
      "J Street\n",
      "J Street\n",
      "J Street\n",
      "J Street\n",
      "J Street\n",
      "J Street\n",
      "J Street\n",
      "J Street\n",
      "J Street\n",
      "J Street\n",
      "J Street\n",
      "J Street\n",
      "J Street\n",
      "J Street\n",
      "J Street\n",
      "J Street\n",
      "J Street\n",
      "K Street\n",
      "K Street\n",
      "K Street\n",
      "K Street\n",
      "K Street\n",
      "K Street\n",
      "K Street\n",
      "K Street\n",
      "K Street\n",
      "K Street\n",
      "K Street\n",
      "K Street\n",
      "K Street\n",
      "K Street\n",
      "K Street\n",
      "K Street\n",
      "K Street\n",
      "K Street\n",
      "K Street\n",
      "L Street\n",
      "L Street\n",
      "L Street\n",
      "L Street\n",
      "L Street\n",
      "L Street\n",
      "L Street\n",
      "L Street\n",
      "L Street\n",
      "L Street\n",
      "L Street\n",
      "L Street\n",
      "L Street\n",
      "L Street\n",
      "L Street\n",
      "L Street\n",
      "L Street\n",
      "L Street\n",
      "L Street\n",
      "M Street\n",
      "M Street\n",
      "M Street\n",
      "M Street\n",
      "M Street\n",
      "M Street\n",
      "M Street\n",
      "M Street\n",
      "M Street\n",
      "M Street\n",
      "M Street\n",
      "M Street\n",
      "M Street\n",
      "M Street\n",
      "M Street\n",
      "M Street\n",
      "M Street\n",
      "M Street\n",
      "N Street\n",
      "N Street\n",
      "N Street\n",
      "N Street\n",
      "N Street\n",
      "N Street\n",
      "N Street\n",
      "N Street\n",
      "N Street\n",
      "N Street\n",
      "N Street\n",
      "N Street\n",
      "N Street\n",
      "N Street\n",
      "N Street\n",
      "N Street\n",
      "N Street\n",
      "N Street\n",
      "N Street\n",
      "O Street\n",
      "O Street\n",
      "O Street\n",
      "O Street\n",
      "O Street\n",
      "O Street\n",
      "O Street\n",
      "O Street\n",
      "O Street\n",
      "O Street\n",
      "O Street\n",
      "O Street\n",
      "O Street\n",
      "O Street\n",
      "O Street\n",
      "O Street\n",
      "O Street\n",
      "O Street\n",
      "O Street\n",
      "Lakeview Blvd\n",
      "1st Ave\n",
      "2nd Ave\n",
      "3rd Ave\n",
      "4th Ave\n",
      "5th Ave\n",
      "6th Ave\n",
      "7th Ave\n",
      "8th Ave\n",
      "9th Ave\n",
      "10th Ave\n",
      "11st Ave\n",
      "12nd Ave\n",
      "13rd Ave\n",
      "14th Ave\n",
      "15th Ave\n",
      "16th Ave\n",
      "17th Ave\n",
      "19th Ave\n",
      "Lakeview Blvd\n",
      "1st Ave\n",
      "2nd Ave\n",
      "3rd Ave\n",
      "4th Ave\n",
      "5th Ave\n",
      "6th Ave\n",
      "7th Ave\n",
      "8th Ave\n",
      "9th Ave\n",
      "10th Ave\n",
      "11st Ave\n",
      "12nd Ave\n",
      "13rd Ave\n",
      "14th Ave\n",
      "15th Ave\n",
      "16th Ave\n",
      "17th Ave\n",
      "18th Ave\n",
      "19th Ave\n",
      "Lakeview Blvd\n",
      "1st Ave\n",
      "2nd Ave\n",
      "3rd Ave\n",
      "4th Ave\n",
      "5th Ave\n",
      "6th Ave\n",
      "7th Ave\n",
      "8th Ave\n",
      "9th Ave\n",
      "10th Ave\n",
      "11st Ave\n",
      "12nd Ave\n",
      "13rd Ave\n",
      "14th Ave\n",
      "15th Ave\n",
      "16th Ave\n",
      "17th Ave\n",
      "18th Ave\n",
      "19th Ave\n",
      "Lakeview Blvd\n",
      "1st Ave\n",
      "2nd Ave\n",
      "3rd Ave\n",
      "4th Ave\n",
      "5th Ave\n",
      "6th Ave\n",
      "7th Ave\n",
      "8th Ave\n",
      "9th Ave\n",
      "10th Ave\n",
      "11st Ave\n",
      "12nd Ave\n",
      "13rd Ave\n",
      "14th Ave\n",
      "15th Ave\n",
      "16th Ave\n",
      "17th Ave\n",
      "18th Ave\n",
      "19th Ave\n",
      "Lakeview Blvd\n",
      "1st Ave\n",
      "2nd Ave\n",
      "3rd Ave\n",
      "4th Ave\n",
      "5th Ave\n",
      "6th Ave\n",
      "7th Ave\n",
      "8th Ave\n",
      "9th Ave\n",
      "10th Ave\n",
      "11st Ave\n",
      "12nd Ave\n",
      "13rd Ave\n",
      "14th Ave\n",
      "15th Ave\n",
      "16th Ave\n",
      "17th Ave\n",
      "19th Ave\n",
      "Lakeview Blvd\n",
      "1st Ave\n",
      "2nd Ave\n",
      "3rd Ave\n",
      "4th Ave\n",
      "5th Ave\n",
      "6th Ave\n",
      "7th Ave\n",
      "8th Ave\n",
      "9th Ave\n",
      "10th Ave\n",
      "11st Ave\n",
      "12nd Ave\n",
      "13rd Ave\n",
      "14th Ave\n",
      "15th Ave\n",
      "16th Ave\n",
      "17th Ave\n",
      "18th Ave\n",
      "19th Ave\n",
      "Lakeview Blvd\n",
      "1st Ave\n",
      "2nd Ave\n",
      "3rd Ave\n",
      "4th Ave\n",
      "5th Ave\n",
      "6th Ave\n",
      "7th Ave\n",
      "8th Ave\n",
      "9th Ave\n",
      "10th Ave\n",
      "11st Ave\n",
      "12nd Ave\n",
      "13rd Ave\n",
      "14th Ave\n",
      "15th Ave\n",
      "16th Ave\n",
      "17th Ave\n",
      "18th Ave\n",
      "19th Ave\n",
      "Lakeview Blvd\n",
      "1st Ave\n",
      "2nd Ave\n",
      "3rd Ave\n",
      "4th Ave\n",
      "5th Ave\n",
      "6th Ave\n",
      "7th Ave\n",
      "8th Ave\n",
      "9th Ave\n",
      "10th Ave\n",
      "11st Ave\n",
      "12nd Ave\n",
      "13rd Ave\n",
      "14th Ave\n",
      "15th Ave\n",
      "16th Ave\n",
      "17th Ave\n",
      "18th Ave\n",
      "19th Ave\n",
      "Lakeview Blvd\n",
      "1st Ave\n",
      "2nd Ave\n",
      "3rd Ave\n",
      "4th Ave\n",
      "5th Ave\n",
      "6th Ave\n",
      "7th Ave\n",
      "8th Ave\n",
      "9th Ave\n",
      "10th Ave\n",
      "11st Ave\n",
      "12nd Ave\n",
      "13rd Ave\n",
      "14th Ave\n",
      "15th Ave\n",
      "16th Ave\n",
      "17th Ave\n",
      "19th Ave\n",
      "Lakeview Blvd\n",
      "1st Ave\n",
      "2nd Ave\n",
      "3rd Ave\n",
      "4th Ave\n",
      "5th Ave\n",
      "6th Ave\n",
      "7th Ave\n",
      "8th Ave\n",
      "9th Ave\n",
      "10th Ave\n",
      "11st Ave\n",
      "12nd Ave\n",
      "13rd Ave\n",
      "14th Ave\n",
      "15th Ave\n",
      "16th Ave\n",
      "17th Ave\n",
      "18th Ave\n",
      "19th Ave\n",
      "Lakeview Blvd\n",
      "1st Ave\n",
      "2nd Ave\n",
      "3rd Ave\n",
      "4th Ave\n",
      "5th Ave\n",
      "6th Ave\n",
      "7th Ave\n",
      "8th Ave\n",
      "9th Ave\n",
      "10th Ave\n",
      "11st Ave\n",
      "12nd Ave\n",
      "13rd Ave\n",
      "14th Ave\n",
      "15th Ave\n",
      "16th Ave\n",
      "17th Ave\n",
      "18th Ave\n",
      "19th Ave\n",
      "Lakeview Blvd\n",
      "1st Ave\n",
      "2nd Ave\n",
      "3rd Ave\n",
      "4th Ave\n",
      "5th Ave\n",
      "6th Ave\n",
      "7th Ave\n",
      "8th Ave\n",
      "9th Ave\n",
      "10th Ave\n",
      "11st Ave\n",
      "12nd Ave\n",
      "13rd Ave\n",
      "14th Ave\n",
      "15th Ave\n",
      "16th Ave\n",
      "17th Ave\n",
      "18th Ave\n",
      "19th Ave\n",
      "Lakeview Blvd\n",
      "1st Ave\n",
      "2nd Ave\n",
      "3rd Ave\n",
      "4th Ave\n",
      "5th Ave\n",
      "6th Ave\n",
      "7th Ave\n",
      "8th Ave\n",
      "9th Ave\n",
      "10th Ave\n",
      "11st Ave\n",
      "12nd Ave\n",
      "13rd Ave\n",
      "14th Ave\n",
      "15th Ave\n",
      "16th Ave\n",
      "17th Ave\n",
      "19th Ave\n",
      "Lakeview Blvd\n",
      "1st Ave\n",
      "2nd Ave\n",
      "3rd Ave\n",
      "4th Ave\n",
      "5th Ave\n",
      "6th Ave\n",
      "7th Ave\n",
      "8th Ave\n",
      "9th Ave\n",
      "10th Ave\n",
      "11st Ave\n",
      "12nd Ave\n",
      "13rd Ave\n",
      "14th Ave\n",
      "15th Ave\n",
      "16th Ave\n",
      "17th Ave\n",
      "18th Ave\n",
      "19th Ave\n"
     ]
    }
   ],
   "source": [
    "for index, row in Roads.iterrows():\n",
    "#     print(index, '\\n', row)\n",
    "    print(row['name'])"
   ]
  },
  {
   "cell_type": "code",
   "execution_count": 69,
   "metadata": {},
   "outputs": [
    {
     "data": {
      "image/png": "[encoded data removed]",
      "text/plain": [
       "<Figure size 432x288 with 1 Axes>"
      ]
     },
     "metadata": {
      "needs_background": "light"
     },
     "output_type": "display_data"
    }
   ],
   "source": [
    "import matplotlib.pyplot as plt\n",
    "import numpy as np\n",
    "\n",
    "# Plot diagonal line (45 degrees)\n",
    "h = plt.plot(np.arange(0, 10), np.arange(0, 10))\n",
    "\n",
    "# set limits so that it no longer looks on screen to be 45 degrees\n",
    "plt.xlim([-10, 20])\n",
    "\n",
    "# Locations to plot text\n",
    "l1 = np.array((1, 1))\n",
    "l2 = np.array((5, 5))\n",
    "\n",
    "# Rotate angle\n",
    "angle = 45\n",
    "trans_angle = plt.gca().transData.transform_angles(np.array((6,)),\n",
    "                                                   l2.reshape((1, 2)))[0]\n",
    "\n",
    "# Plot text\n",
    "th1 = plt.text(l1[0], l1[1], 'text not rotated correctly', fontsize=16,\n",
    "               rotation=angle, rotation_mode='anchor')\n",
    "th2 = plt.text(l2[0], l2[1], 'text rotated correctly', fontsize=16,\n",
    "               rotation=trans_angle, rotation_mode='anchor')\n",
    "\n",
    "plt.show()"
   ]
  },
  {
   "cell_type": "code",
   "execution_count": 66,
   "metadata": {},
   "outputs": [
    {
     "data": {
      "image/png": "[encoded data removed]",
      "text/plain": [
       "<Figure size 432x288 with 1 Axes>"
      ]
     },
     "metadata": {
      "needs_background": "light"
     },
     "output_type": "display_data"
    }
   ],
   "source": [
    "import matplotlib.pyplot as plt\n",
    "import numpy as np\n",
    "\n",
    "# Plot diagonal line (45 degrees)\n",
    "h = plt.plot(np.arange(0, 10), np.arange(0, 10))\n",
    "\n",
    "# set limits so that it no longer looks on screen to be 45 degrees\n",
    "# plt.xlim([-10, 20])\n",
    "\n",
    "# Locations to plot text\n",
    "l2 = np.array((1, 1))\n",
    "l1 = np.array((5, 5))\n",
    "\n",
    "# Rotate angle\n",
    "# angle = np.radians(45)\n",
    "angle = 45\n",
    "trans_angle = plt.gca().transData.transform_angles(np.array((45,)), l2.reshape((1, 2)))[0]\n",
    "\n",
    "# Plot text\n",
    "th1 = plt.text(l1[0], l1[1], 'text not rotated correctly', fontsize=16,\n",
    "               rotation=angle, rotation_mode='anchor')\n",
    "th2 = plt.text(l2[0], l2[1], 'text rotated correctly', fontsize=16,\n",
    "               rotation=trans_angle, rotation_mode='anchor')\n",
    "\n",
    "plt.show()"
   ]
  },
  {
   "cell_type": "code",
   "execution_count": 70,
   "metadata": {},
   "outputs": [
    {
     "data": {
      "image/png": "[encoded data removed]",
      "text/plain": [
       "<Figure size 432x288 with 1 Axes>"
      ]
     },
     "metadata": {
      "needs_background": "light"
     },
     "output_type": "display_data"
    }
   ],
   "source": [
    "import matplotlib.pyplot as plt\n",
    "import numpy as np\n",
    "\n",
    "h = plt.plot(np.arange(0, 10), np.arange(0, 10))\n",
    "# plt.xlim([-10, 20])\n",
    "\n",
    "# Locations to plot text\n",
    "l1 = np.array((1, 1))\n",
    "l2 = np.array((5, 5))\n",
    "\n",
    "# Rotate angle\n",
    "angle = 45\n",
    "trans_angle = plt.gca().transData.transform_angles(np.array((6,)),\n",
    "                                                   l2.reshape((1, 2)))[0]\n",
    "\n",
    "# Plot text\n",
    "th1 = plt.text(l1[0], l1[1], 'text not rotated correctly', fontsize=16,\n",
    "               rotation=angle, rotation_mode='anchor')\n",
    "th2 = plt.text(l2[0], l2[1], 'text rotated correctly', fontsize=16,\n",
    "               rotation=trans_angle, rotation_mode='anchor', ha = 'center', va = 'center')\n",
    "\n",
    "plt.show()"
   ]
  },
  {
   "cell_type": "code",
   "execution_count": 57,
   "metadata": {},
   "outputs": [
    {
     "data": {
      "text/plain": [
       "6.283185307179586"
      ]
     },
     "execution_count": 57,
     "metadata": {},
     "output_type": "execute_result"
    }
   ],
   "source": [
    "np.degrees(6)\n",
    "\n",
    "np.radians(360)"
   ]
  },
  {
   "cell_type": "code",
   "execution_count": 1,
   "metadata": {},
   "outputs": [
    {
     "data": {
      "image/png": "[encoded data removed]",
      "text/plain": [
       "<Figure size 432x288 with 1 Axes>"
      ]
     },
     "metadata": {
      "needs_background": "light"
     },
     "output_type": "display_data"
    }
   ],
   "source": [
    "import numpy as np\n",
    "import matplotlib.pyplot as plt\n",
    "\n",
    "x,y = np.array(((0,1),(5,10)))\n",
    "fig, ax = plt.subplots()\n",
    "ax.plot(x,y)\n",
    "\n",
    "xylabel = ((x[0]+x[1])/2, (y[0]+y[1])/2)\n",
    "\n",
    "dx, dy = x[1] - x[0], y[1] - y[0]\n",
    "rotn = np.degrees(np.arctan2(dy, dx))\n",
    "label = 'The annotation text'\n",
    "ax.annotate(label, xy=xylabel, ha='center', va='center', rotation=rotn)\n",
    "\n",
    "plt.show()"
   ]
  },
  {
   "cell_type": "code",
   "execution_count": 10,
   "metadata": {},
   "outputs": [
    {
     "data": {
      "text/plain": [
       "<Figure size 432x288 with 0 Axes>"
      ]
     },
     "metadata": {},
     "output_type": "display_data"
    },
    {
     "data": {
      "image/png": "[encoded data removed]",
      "text/plain": [
       "<Figure size 432x288 with 1 Axes>"
      ]
     },
     "metadata": {
      "needs_background": "light"
     },
     "output_type": "display_data"
    }
   ],
   "source": [
    "plt.clf()\n",
    "fig, ax = plt.subplots()\n",
    "ax.plot(x,y)\n",
    "p1 = ax.transData.transform_point((x[0], y[0]))\n",
    "p2 = ax.transData.transform_point((x[1], y[1]))\n",
    "dy = (p2[1] - p1[1])\n",
    "dx = (p2[0] - p1[0])\n",
    "rotn = np.degrees(np.arctan2(dy, dx))\n",
    "ax.annotate(label, xy=xylabel, ha='center', va='center', rotation=rotn)\n",
    "\n",
    "plt.show()"
   ]
  },
  {
   "cell_type": "code",
   "execution_count": 5,
   "metadata": {},
   "outputs": [
    {
     "data": {
      "image/png": "[encoded data removed]",
      "text/plain": [
       "<Figure size 432x288 with 1 Axes>"
      ]
     },
     "metadata": {
      "needs_background": "light"
     },
     "output_type": "display_data"
    },
    {
     "ename": "NameError",
     "evalue": "name 'gca' is not defined",
     "output_type": "error",
     "traceback": [
      "\u001b[1;31m---------------------------------------------------------------------------\u001b[0m",
      "\u001b[1;31mNameError\u001b[0m                                 Traceback (most recent call last)",
      "\u001b[1;32m<ipython-input-5-4c734c67c371>\u001b[0m in \u001b[0;36m<module>\u001b[1;34m\u001b[0m\n\u001b[0;32m     12\u001b[0m     \u001b[0max\u001b[0m \u001b[1;33m=\u001b[0m \u001b[0mfig2\u001b[0m\u001b[1;33m.\u001b[0m\u001b[0madd_axes\u001b[0m\u001b[1;33m(\u001b[0m\u001b[1;33m[\u001b[0m\u001b[1;36m0.15\u001b[0m\u001b[1;33m,\u001b[0m \u001b[1;36m0.1\u001b[0m\u001b[1;33m,\u001b[0m \u001b[1;36m0.8\u001b[0m\u001b[1;33m,\u001b[0m \u001b[1;36m0.8\u001b[0m\u001b[1;33m]\u001b[0m\u001b[1;33m)\u001b[0m\u001b[1;33m\u001b[0m\u001b[1;33m\u001b[0m\u001b[0m\n\u001b[0;32m     13\u001b[0m     \u001b[0mtext_plot_location\u001b[0m \u001b[1;33m=\u001b[0m \u001b[0mnp\u001b[0m\u001b[1;33m.\u001b[0m\u001b[0marray\u001b[0m\u001b[1;33m(\u001b[0m\u001b[1;33m[\u001b[0m\u001b[1;36m0.51\u001b[0m\u001b[1;33m,\u001b[0m\u001b[1;36m0.51\u001b[0m\u001b[1;33m]\u001b[0m\u001b[1;33m)\u001b[0m \u001b[1;31m#I'm using the same location for plotting text as you did above\u001b[0m\u001b[1;33m\u001b[0m\u001b[1;33m\u001b[0m\u001b[0m\n\u001b[1;32m---> 14\u001b[1;33m     \u001b[0mtrans_angle\u001b[0m \u001b[1;33m=\u001b[0m \u001b[0mgca\u001b[0m\u001b[1;33m(\u001b[0m\u001b[1;33m)\u001b[0m\u001b[1;33m.\u001b[0m\u001b[0mtransData\u001b[0m\u001b[1;33m.\u001b[0m\u001b[0mtransform_angles\u001b[0m\u001b[1;33m(\u001b[0m\u001b[0mnp\u001b[0m\u001b[1;33m.\u001b[0m\u001b[0marray\u001b[0m\u001b[1;33m(\u001b[0m\u001b[1;33m(\u001b[0m\u001b[1;36m45\u001b[0m\u001b[1;33m,\u001b[0m\u001b[1;33m)\u001b[0m\u001b[1;33m)\u001b[0m\u001b[1;33m,\u001b[0m\u001b[0mtext_plot_location\u001b[0m\u001b[1;33m.\u001b[0m\u001b[0mreshape\u001b[0m\u001b[1;33m(\u001b[0m\u001b[1;33m(\u001b[0m\u001b[1;36m1\u001b[0m\u001b[1;33m,\u001b[0m\u001b[1;36m2\u001b[0m\u001b[1;33m)\u001b[0m\u001b[1;33m)\u001b[0m\u001b[1;33m)\u001b[0m\u001b[1;33m[\u001b[0m\u001b[1;36m0\u001b[0m\u001b[1;33m]\u001b[0m\u001b[1;33m\u001b[0m\u001b[1;33m\u001b[0m\u001b[0m\n\u001b[0m\u001b[0;32m     15\u001b[0m     \u001b[0mline\u001b[0m\u001b[1;33m,\u001b[0m \u001b[1;33m=\u001b[0m \u001b[0max\u001b[0m\u001b[1;33m.\u001b[0m\u001b[0mplot\u001b[0m\u001b[1;33m(\u001b[0m\u001b[0mt\u001b[0m\u001b[1;33m,\u001b[0m \u001b[0mt\u001b[0m\u001b[1;33m,\u001b[0m \u001b[0mcolor\u001b[0m\u001b[1;33m=\u001b[0m\u001b[1;34m'blue'\u001b[0m\u001b[1;33m,\u001b[0m \u001b[0mlw\u001b[0m\u001b[1;33m=\u001b[0m\u001b[1;36m2\u001b[0m\u001b[1;33m)\u001b[0m\u001b[1;33m\u001b[0m\u001b[1;33m\u001b[0m\u001b[0m\n\u001b[0;32m     16\u001b[0m     \u001b[0max\u001b[0m\u001b[1;33m.\u001b[0m\u001b[0mtext\u001b[0m\u001b[1;33m(\u001b[0m\u001b[1;36m0.51\u001b[0m\u001b[1;33m,\u001b[0m\u001b[1;36m0.51\u001b[0m\u001b[1;33m,\u001b[0m\u001b[1;34m\"test label\"\u001b[0m\u001b[1;33m,\u001b[0m \u001b[0mrotation\u001b[0m\u001b[1;33m=\u001b[0m\u001b[0mtrans_angle\u001b[0m\u001b[1;33m)\u001b[0m\u001b[1;33m\u001b[0m\u001b[1;33m\u001b[0m\u001b[0m\n",
      "\u001b[1;31mNameError\u001b[0m: name 'gca' is not defined"
     ]
    },
    {
     "data": {
      "image/png": "[encoded data removed]",
      "text/plain": [
       "<Figure size 216x216 with 1 Axes>"
      ]
     },
     "metadata": {
      "needs_background": "light"
     },
     "output_type": "display_data"
    }
   ],
   "source": [
    "import numpy as np\n",
    "fig = plt.figure()\n",
    "ax = fig.add_axes([0.15, 0.1, 0.8, 0.8])\n",
    "t = np.arange(0.0, 1.0, 0.01)\n",
    "line, = ax.plot(t, t, color='blue', lw=2)\n",
    "ax.text(0.51,0.51,\"test label\", rotation=45)\n",
    "plt.show()\n",
    "\n",
    "\n",
    "for fig_size in [(3.0,3.0),(9.0,3.0),(3.0,9.0)]: #use different sizes, in inches\n",
    "    fig2 = plt.figure(figsize=fig_size)\n",
    "    ax = fig2.add_axes([0.15, 0.1, 0.8, 0.8])\n",
    "    text_plot_location = np.array([0.51,0.51]) #I'm using the same location for plotting text as you did above\n",
    "    trans_angle = gca().transData.transform_angles(np.array((45,)),text_plot_location.reshape((1,2)))[0]\n",
    "    line, = ax.plot(t, t, color='blue', lw=2)\n",
    "    ax.text(0.51,0.51,\"test label\", rotation=trans_angle)\n",
    "    plt.show()"
   ]
  },
  {
   "cell_type": "code",
   "execution_count": null,
   "metadata": {},
   "outputs": [],
   "source": []
  },
  {
   "cell_type": "code",
   "execution_count": null,
   "metadata": {},
   "outputs": [],
   "source": []
  }
 ],
 "metadata": {
  "kernelspec": {
   "display_name": "Python 3",
   "language": "python",
   "name": "python3"
  },
  "language_info": {
   "codemirror_mode": {
    "name": "ipython",
    "version": 3
   },
   "file_extension": ".py",
   "mimetype": "text/x-python",
   "name": "python",
   "nbconvert_exporter": "python",
   "pygments_lexer": "ipython3",
   "version": "3.8.5"
  }
 },
 "nbformat": 4,
 "nbformat_minor": 4
}
